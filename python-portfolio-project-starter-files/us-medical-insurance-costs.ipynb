{
 "cells": [
  {
   "cell_type": "markdown",
   "metadata": {},
   "source": [
    "# U.S. Medical Insurance Costs"
   ]
  },
  {
   "cell_type": "markdown",
   "metadata": {},
   "source": [
    "In this independent project we are working with a sample of medical insurance data. We will divide this project into 4 main parts:\n",
    "1) Exploration,\n",
    "2) Organization,\n",
    "3) Analysis,\n",
    "4) Results."
   ]
  },
  {
   "attachments": {
    "image.png": {
     "image/png": "[encoded data removed]"
    }
   },
   "cell_type": "markdown",
   "metadata": {},
   "source": [
    "## Exploration ##\n",
    "\n",
    "First, we look at the data by hand, just by opening the csv file in the terminal\n",
    "\n",
    "![image.png](attachment:image.png)"
   ]
  },
  {
   "cell_type": "markdown",
   "metadata": {},
   "source": [
    "We see from the first few lines of the data set, that we have medical insurance information separated in 7 columns. Looking through the file, it seems that the data is clean and there are no missing rows, columns or cells. The columns are as follows:\n",
    "1) age,\n",
    "2) sex,\n",
    "3) BMI,\n",
    "4) children,\n",
    "5) smoker,\n",
    "6) region,\n",
    "7) charges.\n",
    "\n",
    "This is a good starting point for the next step: organization of data. We will use python and its useful libraries, to organize and access data. We will use ChatGPT for advice on code syntax and initial ideation."
   ]
  },
  {
   "cell_type": "markdown",
   "metadata": {},
   "source": [
    "## Organization ##\n",
    "We start by getting our data into usable state, so we can manipulate it using python."
   ]
  },
  {
   "cell_type": "code",
   "execution_count": 78,
   "metadata": {},
   "outputs": [],
   "source": [
    "import csv\n",
    "import numpy as np\n",
    "import matplotlib.pyplot as plt"
   ]
  },
  {
   "cell_type": "code",
   "execution_count": 79,
   "metadata": {},
   "outputs": [
    {
     "name": "stdout",
     "output_type": "stream",
     "text": [
      "{'age': '19', 'sex': 'female', 'bmi': '27.9', 'children': '0', 'smoker': 'yes', 'region': 'southwest', 'charges': '16884.924'}\n",
      "{'age': '18', 'sex': 'male', 'bmi': '33.77', 'children': '1', 'smoker': 'no', 'region': 'southeast', 'charges': '1725.5523'}\n",
      "{'age': '28', 'sex': 'male', 'bmi': '33', 'children': '3', 'smoker': 'no', 'region': 'southeast', 'charges': '4449.462'}\n",
      "{'age': '33', 'sex': 'male', 'bmi': '22.705', 'children': '0', 'smoker': 'no', 'region': 'northwest', 'charges': '21984.47061'}\n",
      "{'age': '32', 'sex': 'male', 'bmi': '28.88', 'children': '0', 'smoker': 'no', 'region': 'northwest', 'charges': '3866.8552'}\n",
      "{'age': '19', 'sex': 'female', 'bmi': '27.9', 'children': '0', 'smoker': 'yes', 'region': 'southwest', 'charges': '16884.924', 'id': 0}\n",
      "{'age': '18', 'sex': 'male', 'bmi': '33.77', 'children': '1', 'smoker': 'no', 'region': 'southeast', 'charges': '1725.5523', 'id': 1}\n",
      "{'age': '28', 'sex': 'male', 'bmi': '33', 'children': '3', 'smoker': 'no', 'region': 'southeast', 'charges': '4449.462', 'id': 2}\n",
      "{'age': '33', 'sex': 'male', 'bmi': '22.705', 'children': '0', 'smoker': 'no', 'region': 'northwest', 'charges': '21984.47061', 'id': 3}\n",
      "{'age': '32', 'sex': 'male', 'bmi': '28.88', 'children': '0', 'smoker': 'no', 'region': 'northwest', 'charges': '3866.8552', 'id': 4}\n"
     ]
    }
   ],
   "source": [
    "with open(\"insurance.csv\", \"r\", newline='') as file:\n",
    "    reader = csv.DictReader(file)\n",
    "    data = list(reader)\n",
    "\n",
    "for row in data[:5]:\n",
    "    print(row)\n",
    "\n",
    "# adding id to each row\n",
    "id_data = []\n",
    "\n",
    "for idx in range(len(data)):\n",
    "    current_dict = data[idx]\n",
    "    current_dict['id'] = idx\n",
    "    id_data.append(current_dict)\n",
    "\n",
    "for row in id_data[:5]:\n",
    "    print(row)\n"
   ]
  },
  {
   "cell_type": "markdown",
   "metadata": {},
   "source": [
    "Now each row of the `.csv` file is saved as dictionary with column names as keys and the corresponding values for each person. This allows us to filter data by any category (sex, age, etc.)\n",
    "\n",
    "Let's categorize the data into few categories:\n",
    "1) Male - Female\n",
    "2) Smokers - non-smokers\n",
    "3) younger than 40 - older than 40\n",
    "\n",
    "These will be initial groups that we will look at as a factors of influencing the cost of insurance."
   ]
  },
  {
   "cell_type": "code",
   "execution_count": 80,
   "metadata": {},
   "outputs": [],
   "source": [
    "def extract_males(datas):\n",
    "    males_data = []\n",
    "    for person in datas:\n",
    "        if person['sex'] == 'male':\n",
    "            males_data.append(person)\n",
    "    \n",
    "    return males_data\n",
    "\n",
    "males_data = extract_males(id_data)\n"
   ]
  },
  {
   "cell_type": "code",
   "execution_count": 81,
   "metadata": {},
   "outputs": [
    {
     "name": "stdout",
     "output_type": "stream",
     "text": [
      "{'age': '18', 'sex': 'male', 'bmi': '33.77', 'children': '1', 'smoker': 'no', 'region': 'southeast', 'charges': '1725.5523', 'id': 1}\n",
      "{'age': '28', 'sex': 'male', 'bmi': '33', 'children': '3', 'smoker': 'no', 'region': 'southeast', 'charges': '4449.462', 'id': 2}\n",
      "{'age': '33', 'sex': 'male', 'bmi': '22.705', 'children': '0', 'smoker': 'no', 'region': 'northwest', 'charges': '21984.47061', 'id': 3}\n",
      "{'age': '32', 'sex': 'male', 'bmi': '28.88', 'children': '0', 'smoker': 'no', 'region': 'northwest', 'charges': '3866.8552', 'id': 4}\n",
      "{'age': '37', 'sex': 'male', 'bmi': '29.83', 'children': '2', 'smoker': 'no', 'region': 'northeast', 'charges': '6406.4107', 'id': 8}\n"
     ]
    }
   ],
   "source": [
    "for male in males_data[:5]:\n",
    "    print(male)"
   ]
  },
  {
   "cell_type": "code",
   "execution_count": 82,
   "metadata": {},
   "outputs": [],
   "source": [
    "def extract_females(datas):\n",
    "    females_data = []\n",
    "    for person in datas:\n",
    "        if person['sex'] == 'female':\n",
    "            females_data.append(person)\n",
    "\n",
    "    return females_data\n",
    "\n",
    "females_data = extract_females(id_data)"
   ]
  },
  {
   "cell_type": "code",
   "execution_count": 83,
   "metadata": {},
   "outputs": [
    {
     "name": "stdout",
     "output_type": "stream",
     "text": [
      "{'age': '19', 'sex': 'female', 'bmi': '27.9', 'children': '0', 'smoker': 'yes', 'region': 'southwest', 'charges': '16884.924', 'id': 0}\n",
      "{'age': '31', 'sex': 'female', 'bmi': '25.74', 'children': '0', 'smoker': 'no', 'region': 'southeast', 'charges': '3756.6216', 'id': 5}\n",
      "{'age': '46', 'sex': 'female', 'bmi': '33.44', 'children': '1', 'smoker': 'no', 'region': 'southeast', 'charges': '8240.5896', 'id': 6}\n",
      "{'age': '37', 'sex': 'female', 'bmi': '27.74', 'children': '3', 'smoker': 'no', 'region': 'northwest', 'charges': '7281.5056', 'id': 7}\n",
      "{'age': '60', 'sex': 'female', 'bmi': '25.84', 'children': '0', 'smoker': 'no', 'region': 'northwest', 'charges': '28923.13692', 'id': 9}\n"
     ]
    }
   ],
   "source": [
    "for female in females_data[:5]:\n",
    "    print(female)"
   ]
  },
  {
   "cell_type": "code",
   "execution_count": 84,
   "metadata": {},
   "outputs": [],
   "source": [
    "def extract_old_aged(datas):\n",
    "    old_aged_data = []\n",
    "    for person in datas:\n",
    "        if float(person['age']) > float(45):\n",
    "            old_aged_data.append(person)\n",
    "    \n",
    "    return old_aged_data\n",
    "\n",
    "old_aged_data = extract_old_aged(id_data)"
   ]
  },
  {
   "cell_type": "code",
   "execution_count": 85,
   "metadata": {},
   "outputs": [
    {
     "name": "stdout",
     "output_type": "stream",
     "text": [
      "{'age': '46', 'sex': 'female', 'bmi': '33.44', 'children': '1', 'smoker': 'no', 'region': 'southeast', 'charges': '8240.5896', 'id': 6}\n",
      "{'age': '60', 'sex': 'female', 'bmi': '25.84', 'children': '0', 'smoker': 'no', 'region': 'northwest', 'charges': '28923.13692', 'id': 9}\n",
      "{'age': '62', 'sex': 'female', 'bmi': '26.29', 'children': '0', 'smoker': 'yes', 'region': 'southeast', 'charges': '27808.7251', 'id': 11}\n",
      "{'age': '56', 'sex': 'female', 'bmi': '39.82', 'children': '0', 'smoker': 'no', 'region': 'southeast', 'charges': '11090.7178', 'id': 13}\n",
      "{'age': '52', 'sex': 'female', 'bmi': '30.78', 'children': '1', 'smoker': 'no', 'region': 'northeast', 'charges': '10797.3362', 'id': 16}\n"
     ]
    }
   ],
   "source": [
    "for oldie in old_aged_data[:5]:\n",
    "    print(oldie)"
   ]
  },
  {
   "cell_type": "code",
   "execution_count": 86,
   "metadata": {},
   "outputs": [],
   "source": [
    "def extract_young_aged(datas):\n",
    "    young_aged_data = []\n",
    "    for person in datas:\n",
    "        if float(person['age']) < float(45):\n",
    "            young_aged_data.append(person)\n",
    "    \n",
    "    return young_aged_data\n",
    "\n",
    "young_aged_data = extract_young_aged(id_data)"
   ]
  },
  {
   "cell_type": "code",
   "execution_count": 87,
   "metadata": {},
   "outputs": [
    {
     "name": "stdout",
     "output_type": "stream",
     "text": [
      "{'age': '19', 'sex': 'female', 'bmi': '27.9', 'children': '0', 'smoker': 'yes', 'region': 'southwest', 'charges': '16884.924', 'id': 0}\n",
      "{'age': '18', 'sex': 'male', 'bmi': '33.77', 'children': '1', 'smoker': 'no', 'region': 'southeast', 'charges': '1725.5523', 'id': 1}\n",
      "{'age': '28', 'sex': 'male', 'bmi': '33', 'children': '3', 'smoker': 'no', 'region': 'southeast', 'charges': '4449.462', 'id': 2}\n",
      "{'age': '33', 'sex': 'male', 'bmi': '22.705', 'children': '0', 'smoker': 'no', 'region': 'northwest', 'charges': '21984.47061', 'id': 3}\n",
      "{'age': '32', 'sex': 'male', 'bmi': '28.88', 'children': '0', 'smoker': 'no', 'region': 'northwest', 'charges': '3866.8552', 'id': 4}\n"
     ]
    }
   ],
   "source": [
    "for youngie in young_aged_data[:5]:\n",
    "    print(youngie)"
   ]
  },
  {
   "cell_type": "code",
   "execution_count": 88,
   "metadata": {},
   "outputs": [],
   "source": [
    "def extract_smokers(datas):\n",
    "    smokers_data = []\n",
    "    for person in datas:\n",
    "        if person['smoker'] == 'yes':\n",
    "            smokers_data.append(person)\n",
    "    \n",
    "    return smokers_data\n",
    "\n",
    "smokers_data = extract_smokers(id_data)"
   ]
  },
  {
   "cell_type": "code",
   "execution_count": 89,
   "metadata": {},
   "outputs": [
    {
     "name": "stdout",
     "output_type": "stream",
     "text": [
      "{'age': '19', 'sex': 'female', 'bmi': '27.9', 'children': '0', 'smoker': 'yes', 'region': 'southwest', 'charges': '16884.924', 'id': 0}\n",
      "{'age': '62', 'sex': 'female', 'bmi': '26.29', 'children': '0', 'smoker': 'yes', 'region': 'southeast', 'charges': '27808.7251', 'id': 11}\n",
      "{'age': '27', 'sex': 'male', 'bmi': '42.13', 'children': '0', 'smoker': 'yes', 'region': 'southeast', 'charges': '39611.7577', 'id': 14}\n",
      "{'age': '30', 'sex': 'male', 'bmi': '35.3', 'children': '0', 'smoker': 'yes', 'region': 'southwest', 'charges': '36837.467', 'id': 19}\n",
      "{'age': '34', 'sex': 'female', 'bmi': '31.92', 'children': '1', 'smoker': 'yes', 'region': 'northeast', 'charges': '37701.8768', 'id': 23}\n"
     ]
    }
   ],
   "source": [
    "for smoker in smokers_data[:5]:\n",
    "    print(smoker)"
   ]
  },
  {
   "cell_type": "code",
   "execution_count": 90,
   "metadata": {},
   "outputs": [],
   "source": [
    "def extract_nonsmokers(datas):\n",
    "    nonsmokers_data = []\n",
    "    for person in datas:\n",
    "        if person['smoker'] == 'no':\n",
    "            nonsmokers_data.append(person)\n",
    "    \n",
    "    return nonsmokers_data\n",
    "\n",
    "nonsmokers_data = extract_nonsmokers(id_data)"
   ]
  },
  {
   "cell_type": "code",
   "execution_count": 91,
   "metadata": {},
   "outputs": [
    {
     "name": "stdout",
     "output_type": "stream",
     "text": [
      "{'age': '18', 'sex': 'male', 'bmi': '33.77', 'children': '1', 'smoker': 'no', 'region': 'southeast', 'charges': '1725.5523', 'id': 1}\n",
      "{'age': '28', 'sex': 'male', 'bmi': '33', 'children': '3', 'smoker': 'no', 'region': 'southeast', 'charges': '4449.462', 'id': 2}\n",
      "{'age': '33', 'sex': 'male', 'bmi': '22.705', 'children': '0', 'smoker': 'no', 'region': 'northwest', 'charges': '21984.47061', 'id': 3}\n",
      "{'age': '32', 'sex': 'male', 'bmi': '28.88', 'children': '0', 'smoker': 'no', 'region': 'northwest', 'charges': '3866.8552', 'id': 4}\n",
      "{'age': '31', 'sex': 'female', 'bmi': '25.74', 'children': '0', 'smoker': 'no', 'region': 'southeast', 'charges': '3756.6216', 'id': 5}\n"
     ]
    }
   ],
   "source": [
    "for nonsmoker in nonsmokers_data[:5]:\n",
    "    print(nonsmoker)"
   ]
  },
  {
   "cell_type": "markdown",
   "metadata": {},
   "source": [
    "We have defined some new subsets of our data. We will define also the size of original data set and each of the subsets, to discover, how well each group is represented in the current data sample. We have also added id number to each row in original data, in order to cross reference id's across different subsets."
   ]
  },
  {
   "cell_type": "code",
   "execution_count": 99,
   "metadata": {},
   "outputs": [
    {
     "name": "stdout",
     "output_type": "stream",
     "text": [
      "id_data 1338\n",
      "males_data 676\n",
      "females_data 662\n",
      "young_aged_data 809\n",
      "old_aged_data 500\n",
      "smokers_data 274\n",
      "nonsmokers_data 1064\n"
     ]
    }
   ],
   "source": [
    "total_sample_size = len(id_data)\n",
    "male_amount = len(males_data)\n",
    "female_amount = len(females_data)\n",
    "young_amount = len(young_aged_data)\n",
    "old_amount = len(old_aged_data)\n",
    "smoker_amount = len(smokers_data)\n",
    "nonsmoker_amount = len(nonsmokers_data)\n",
    "\n",
    "all_groups = {\"id_data\": id_data, \"males_data\": males_data, \"females_data\": females_data, \"young_aged_data\": young_aged_data, \"old_aged_data\": old_aged_data, \"smokers_data\": smokers_data, \"nonsmokers_data\": nonsmokers_data}\n",
    "len_all_groups = [total_sample_size, male_amount, female_amount, young_amount, old_amount, smoker_amount, nonsmoker_amount]\n",
    "groups_and_lengths = dict(list(zip(all_groups.keys(), len_all_groups)))\n",
    "for key, value in groups_and_lengths.items():\n",
    "    print(key, value)"
   ]
  },
  {
   "cell_type": "markdown",
   "metadata": {},
   "source": [
    "Now we can extract some useful figures out of the defined variables.\n",
    "We will\n",
    "1) extract representation for each group, as percentage of sample size,\n",
    "2) find out, if there are more male or female smokers,\n",
    "3) find average medical insurance charges for each group,\n",
    "4) find cheapest and most expensive groups and subgroups, to analyze the difference of charges between the groups."
   ]
  },
  {
   "cell_type": "code",
   "execution_count": 95,
   "metadata": {},
   "outputs": [
    {
     "name": "stdout",
     "output_type": "stream",
     "text": [
      "17755824.990759\n"
     ]
    }
   ],
   "source": [
    "def extract_charges(datas):\n",
    "    \"\"\"\n",
    "    Extracts insurance costs of the data set.\n",
    "    Sum of all costs from chosen dataset.\n",
    "    \"\"\"\n",
    "    charges = 0\n",
    "    for person in datas:\n",
    "        charges += float(person['charges'])\n",
    "    \n",
    "    return charges\n",
    "\n",
    "test = extract_charges(id_data)\n",
    "print(test)"
   ]
  },
  {
   "cell_type": "code",
   "execution_count": 101,
   "metadata": {},
   "outputs": [
    {
     "name": "stdout",
     "output_type": "stream",
     "text": [
      "('id_data', 13270.422265141257)\n",
      "('males_data', 13956.751177721886)\n",
      "('females_data', 12569.57884383534)\n",
      "('young_aged_data', 10785.580769850425)\n",
      "('old_aged_data', 17200.42870424)\n",
      "('smokers_data', 32050.23183153285)\n",
      "('nonsmokers_data', 8434.268297856199)\n"
     ]
    }
   ],
   "source": [
    "def get_avg_costs(datas):\n",
    "    set_key = None\n",
    "    for key, value in all_groups.items():\n",
    "        if value == datas:\n",
    "            set_key = key\n",
    "    \n",
    "    costs = extract_charges(datas)\n",
    "    sample_size = groups_and_lengths[set_key]\n",
    "    avg_costs = costs / sample_size\n",
    "\n",
    "    return avg_costs\n",
    "\n",
    "avg_costs_by_group = dict(list(zip(all_groups.keys(), [get_avg_costs(group) for group in all_groups.values()])))\n",
    "\n",
    "for item in avg_costs_by_group.items():\n",
    "    print(item)"
   ]
  },
  {
   "cell_type": "markdown",
   "metadata": {},
   "source": [
    "## Get the subgroup with the highest and lowest average insurance costs\n",
    "\n",
    "For this task we will get all the possible combinations of three parameters: sex, smoker status and age treshold 45 years. So this is some kind of a combinatoric problem.\n",
    "\n"
   ]
  },
  {
   "cell_type": "code",
   "execution_count": 148,
   "metadata": {},
   "outputs": [
    {
     "name": "stdout",
     "output_type": "stream",
     "text": [
      "[1, 2, 3, 4, 8, 10, 12, 14, 15, 17, 18, 19, 22, 24, 28, 29, 30, 33, 34, 35, 37, 38, 39, 42, 44, 45, 49, 52, 53, 55, 57, 60, 61, 62, 67, 69, 71, 73, 74, 75, 77, 80, 82, 85, 92, 93, 97, 98, 99, 101, 105, 107, 108, 109, 110, 112, 114, 115, 116, 120, 121, 123, 129, 133, 136, 137, 140, 141, 142, 143, 144, 146, 149, 150, 151, 155, 156, 157, 158, 162, 164, 165, 169, 170, 171, 172, 176, 177, 180, 182, 184, 185, 190, 192, 194, 195, 204, 206, 207, 209, 210, 211, 212, 217, 222, 223, 224, 225, 226, 229, 233, 234, 237, 238, 239, 243, 245, 247, 248, 249, 250, 252, 253, 254, 256, 258, 259, 262, 263, 265, 266, 268, 269, 270, 271, 272, 273, 274, 276, 278, 281, 282, 285, 289, 291, 292, 294, 295, 296, 297, 298, 300, 305, 308, 310, 312, 313, 315, 316, 317, 319, 320, 322, 323, 324, 325, 327, 329, 331, 335, 336, 337, 338, 341, 343, 346, 347, 349, 353, 355, 356, 357, 358, 361, 368, 369, 373, 374, 377, 379, 381, 382, 384, 385, 387, 390, 392, 393, 395, 397, 398, 401, 403, 404, 408, 409, 410, 413, 416, 418, 420, 421, 422, 423, 424, 425, 430, 432, 434, 435, 436, 437, 439, 442, 444, 446, 449, 450, 451, 452, 453, 454, 455, 458, 461, 463, 464, 470, 474, 475, 476, 477, 478, 479, 480, 481, 484, 487, 489, 493, 494, 495, 497, 500, 501, 502, 503, 505, 506, 507, 510, 511, 512, 513, 514, 515, 516, 517, 519, 524, 528, 529, 530, 532, 533, 534, 535, 539, 544, 545, 546, 550, 552, 555, 556, 557, 559, 562, 563, 567, 569, 576, 578, 580, 581, 582, 584, 586, 591, 592, 594, 598, 601, 608, 609, 617, 620, 621, 623, 624, 626, 627, 628, 630, 631, 633, 634, 635, 638, 639, 640, 641, 642, 644, 645, 646, 648, 657, 660, 663, 665, 666, 668, 670, 672, 675, 677, 678, 681, 682, 683, 685, 686, 687, 689, 690, 691, 692, 693, 697, 698, 702, 707, 710, 713, 715, 717, 721, 722, 723, 726, 730, 731, 737, 738, 739, 740, 741, 742, 744, 746, 747, 749, 751, 752, 754, 755, 758, 759, 761, 762, 763, 766, 770, 774, 775, 776, 777, 778, 779, 780, 781, 782, 786, 787, 788, 791, 793, 795, 796, 799, 802, 804, 808, 809, 812, 813, 814, 817, 820, 821, 824, 826, 827, 828, 829, 830, 833, 834, 835, 836, 840, 841, 844, 847, 849, 851, 857, 859, 864, 865, 866, 867, 868, 870, 872, 873, 874, 877, 878, 880, 881, 884, 885, 886, 888, 889, 892, 893, 894, 897, 900, 901, 902, 903, 906, 908, 910, 911, 914, 917, 922, 923, 924, 925, 929, 930, 932, 934, 936, 938, 939, 940, 943, 944, 946, 947, 948, 949, 950, 951, 953, 954, 955, 956, 957, 958, 959, 963, 964, 965, 966, 967, 968, 974, 975, 976, 977, 980, 981, 982, 984, 986, 988, 993, 1000, 1001, 1002, 1003, 1004, 1005, 1006, 1007, 1008, 1009, 1011, 1013, 1015, 1020, 1022, 1023, 1026, 1027, 1028, 1033, 1034, 1036, 1038, 1039, 1041, 1042, 1044, 1047, 1049, 1051, 1052, 1053, 1055, 1059, 1060, 1061, 1062, 1063, 1066, 1067, 1068, 1070, 1071, 1072, 1077, 1078, 1079, 1080, 1081, 1082, 1083, 1086, 1087, 1088, 1089, 1090, 1092, 1097, 1101, 1102, 1103, 1104, 1108, 1109, 1111, 1114, 1115, 1116, 1117, 1118, 1121, 1126, 1128, 1131, 1132, 1134, 1138, 1140, 1143, 1144, 1145, 1146, 1148, 1149, 1156, 1161, 1162, 1166, 1168, 1170, 1173, 1174, 1179, 1185, 1186, 1197, 1198, 1200, 1201, 1202, 1203, 1205, 1207, 1209, 1210, 1211, 1212, 1215, 1216, 1217, 1221, 1222, 1224, 1226, 1227, 1228, 1229, 1230, 1233, 1235, 1238, 1240, 1241, 1244, 1245, 1247, 1249, 1250, 1251, 1252, 1258, 1261, 1265, 1267, 1269, 1270, 1272, 1273, 1274, 1275, 1278, 1283, 1284, 1288, 1289, 1291, 1292, 1293, 1294, 1295, 1296, 1298, 1300, 1301, 1303, 1304, 1307, 1309, 1310, 1312, 1315, 1317, 1318, 1320, 1321, 1322, 1324, 1325, 1327, 1329, 1333]\n"
     ]
    }
   ],
   "source": [
    "sex_keys = ['males_data', 'females_data']\n",
    "age_keys = ['young_aged_data', 'old_aged_data']\n",
    "smoker_keys = ['smokers_data', 'nonsmokers_data']\n",
    "\n",
    "def get_ids_list(datas):\n",
    "    ids_list = []\n",
    "    data_from_dict = all_groups[datas]\n",
    "    for person in data_from_dict:\n",
    "        \n",
    "        ids_list.append(person['id'])\n",
    "        \n",
    "    return ids_list\n",
    "\n",
    "test = get_ids_list(\"males_data\")\n",
    "print(test)"
   ]
  },
  {
   "cell_type": "code",
   "execution_count": 149,
   "metadata": {},
   "outputs": [
    {
     "name": "stdout",
     "output_type": "stream",
     "text": [
      "[2, 3]\n"
     ]
    }
   ],
   "source": [
    "from functools import reduce\n",
    "\n",
    "def get_intersection(lists):\n",
    "\n",
    "    intersection_reduce = list(reduce(lambda x, y: set(x) & set(y), lists))\n",
    "\n",
    "    return intersection_reduce\n",
    "\n",
    "test = get_intersection([[1, 2, 3], [2, 3, 4], [2, 3, 4, 5], [1, 2, 3, 4, 5, 6]])\n",
    "print(test)\n"
   ]
  },
  {
   "cell_type": "code",
   "execution_count": 159,
   "metadata": {},
   "outputs": [
    {
     "name": "stdout",
     "output_type": "stream",
     "text": [
      "[1281, 1030, 1031, 11, 783, 655, 664, 1176, 543, 288, 419, 301, 175, 818, 1337, 58, 706, 1218, 1096, 328, 330, 843, 845, 852, 86, 854, 1112, 856, 94, 607, 1122, 103, 615, 883, 244, 757, 890, 251]\n",
      "38\n"
     ]
    }
   ],
   "source": [
    "# ugly 3x for loop !!!\n",
    "def get_subgroup(groups):\n",
    "\n",
    "    ids_groups = []\n",
    "\n",
    "    for group in groups:\n",
    "        ids_groups.append(get_ids_list(group))\n",
    "    \n",
    "    return get_intersection(ids_groups)\n",
    "\n",
    "test = get_subgroup(['females_data', 'smokers_data', 'old_aged_data'])\n",
    "print(test)\n",
    "print(len(test))\n",
    "\n",
    "            "
   ]
  },
  {
   "cell_type": "code",
   "execution_count": 137,
   "metadata": {},
   "outputs": [],
   "source": [
    "subgroup_ids = {\n",
    "\"young_male_smokers\" : get_subgroup([\"young_aged_data\", \"males_data\", \"smokers_data\"]),\n",
    "\"young_male_nonsmokers\" : get_subgroup([\"young_aged_data\", \"males_data\", \"nonsmokers_data\"]),\n",
    "\"young_female_smokers\" : get_subgroup([\"young_aged_data\", \"females_data\", \"smokers_data\"]),\n",
    "\"young_female_nonsmokers\" : get_subgroup([\"young_aged_data\", \"females_data\", \"nonsmokers_data\"]),\n",
    "\"old_male_smokers\" : get_subgroup([\"old_aged_data\", \"males_data\", \"smokers_data\"]),\n",
    "\"old_male_nonsmokers\" : get_subgroup([\"old_aged_data\", \"males_data\", \"nonsmokers_data\"]),\n",
    "\"old_female_smokers\" : get_subgroup([\"old_aged_data\", \"females_data\", \"smokers_data\"]),\n",
    "\"old_female_nonsmokers\" : get_subgroup([\"old_aged_data\", \"females_data\", \"nonsmokers_data\"])\n",
    "}\n",
    "\n",
    "# i suppose this is left unused"
   ]
  },
  {
   "cell_type": "code",
   "execution_count": 138,
   "metadata": {},
   "outputs": [],
   "source": [
    "def get_avg_of_subgroups(supergroup, subgroups):\n",
    "\n",
    "    subgroup = get_subgroup(subgroups)\n",
    "    costs_list = []\n",
    "\n",
    "    for person in supergroup:\n",
    "        if person['id'] in subgroup:\n",
    "            costs_list.append(person['charges'])\n",
    "    \n",
    "    subgroup_costs_sum = 0\n",
    "    for cost in costs_list:\n",
    "        subgroup_costs_sum += float(cost)\n",
    "\n",
    "    return subgroup_costs_sum / len(subgroup)\n"
   ]
  },
  {
   "cell_type": "code",
   "execution_count": 160,
   "metadata": {},
   "outputs": [
    {
     "name": "stdout",
     "output_type": "stream",
     "text": [
      "young_male_smokers\n",
      "30063.506948019804\n",
      "young_male_nonsmokers\n",
      "5445.845442076679\n",
      "young_female_smokers\n",
      "28105.654136973677\n",
      "young_female_nonsmokers\n",
      "5794.800323758619\n",
      "old_male_smokers\n",
      "38069.32304555555\n",
      "old_male_nonsmokers\n",
      "12364.340911917101\n",
      "old_female_smokers\n",
      "35587.61419236843\n",
      "old_female_nonsmokers\n",
      "13050.343127209298\n"
     ]
    }
   ],
   "source": [
    "subgroup_costs = {\n",
    "\"young_male_smokers\" : get_avg_of_subgroups(id_data, [\"young_aged_data\", \"males_data\", \"smokers_data\"]),\n",
    "\"young_male_nonsmokers\" : get_avg_of_subgroups(id_data, [\"young_aged_data\", \"males_data\", \"nonsmokers_data\"]),\n",
    "\"young_female_smokers\" : get_avg_of_subgroups(id_data, [\"young_aged_data\", \"females_data\", \"smokers_data\"]),\n",
    "\"young_female_nonsmokers\" : get_avg_of_subgroups(id_data, [\"young_aged_data\", \"females_data\", \"nonsmokers_data\"]),\n",
    "\"old_male_smokers\" : get_avg_of_subgroups(id_data, [\"old_aged_data\", \"males_data\", \"smokers_data\"]),\n",
    "\"old_male_nonsmokers\" : get_avg_of_subgroups(id_data, [\"old_aged_data\", \"males_data\", \"nonsmokers_data\"]),\n",
    "\"old_female_smokers\" : get_avg_of_subgroups(id_data, [\"old_aged_data\", \"females_data\", \"smokers_data\"]),\n",
    "\"old_female_nonsmokers\" : get_avg_of_subgroups(id_data, [\"old_aged_data\", \"females_data\", \"nonsmokers_data\"])\n",
    "}\n",
    "\n",
    "for key, value in subgroup_costs.items():\n",
    "    print(key)\n",
    "    print(value)"
   ]
  },
  {
   "cell_type": "markdown",
   "metadata": {},
   "source": [
    "## Results ##\n",
    "We can see by this data that average medical insurance costs are higher for females, unless we look at smokers. If you are a smoker, than you have cheaper insurance if you are female, no matter the age."
   ]
  }
 ],
 "metadata": {
  "kernelspec": {
   "display_name": "Python 3",
   "language": "python",
   "name": "python3"
  },
  "language_info": {
   "codemirror_mode": {
    "name": "ipython",
    "version": 3
   },
   "file_extension": ".py",
   "mimetype": "text/x-python",
   "name": "python",
   "nbconvert_exporter": "python",
   "pygments_lexer": "ipython3",
   "version": "3.12.2"
  }
 },
 "nbformat": 4,
 "nbformat_minor": 4
}
